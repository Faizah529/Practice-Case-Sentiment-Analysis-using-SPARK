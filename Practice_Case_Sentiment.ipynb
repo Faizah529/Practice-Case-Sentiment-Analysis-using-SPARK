{
  "nbformat": 4,
  "nbformat_minor": 0,
  "metadata": {
    "colab": {
      "name": "Practice Case Sentiment.ipynb",
      "provenance": [],
      "collapsed_sections": [],
      "toc_visible": true
    },
    "kernelspec": {
      "name": "python3",
      "display_name": "Python 3"
    }
  },
  "cells": [
    {
      "cell_type": "markdown",
      "metadata": {
        "id": "yZGTtCf_ig1B",
        "colab_type": "text"
      },
      "source": [
        "# Sentiment Analysis\n",
        "\n",
        "**Sentiment analysis** adalah proses penggunaan text analytics untuk mendapatkan berbagai sumber data dari internet dan beragam platform media sosial. Tujuannya adalah untuk memperoleh opini dari pengguna yang terdapat pada platform tersebut.\n",
        "\n",
        "**Sentiment analysis** merupakan salah satu bidang dari Natural Languange Processing (NLP) yang membangun sistem untuk mengenali dan mengekstraksi opini dalam bentuk teks.\n",
        "\n",
        "Pada case ini akan dilakukan Sentiment Analysis menggunakan data twitter.\n",
        "\n",
        "Data tersebut berisi:\n",
        "- **text** : 'tweet' orang di twitter\n",
        "- **target** : Jenis sentiment analysis dari tweet tersebut (0: Negative Sentiment, 1: Positive Sentiment)\n",
        "\n",
        "\n",
        "## Outline:\n",
        "    \n",
        "- Import Library\n",
        "- Import Data\n",
        "- Data Pre-processing\n",
        "- WordCloud\n",
        "- Feature Extraction\n",
        "- Modeling\n",
        "- Conclusion"
      ]
    },
    {
      "cell_type": "markdown",
      "metadata": {
        "id": "uJ2B4RLaj8LJ",
        "colab_type": "text"
      },
      "source": [
        "## Import Libraries"
      ]
    },
    {
      "cell_type": "code",
      "metadata": {
        "id": "-zgi9lIT0d_x",
        "colab_type": "code",
        "outputId": "17f30a1a-2c11-4e86-c2a9-2d9ae5fc731c",
        "colab": {
          "base_uri": "https://localhost:8080/",
          "height": 51
        }
      },
      "source": [
        "#import libraries\n",
        "import pandas as pd \n",
        "import numpy as np\n",
        "\n",
        "#import Random sampling\n",
        "import random\n",
        "\n",
        "#import nltk module \n",
        "import nltk\n",
        "nltk.download('stopwords')\n",
        "from nltk.corpus import stopwords\n",
        "from nltk.stem import PorterStemmer\n",
        "\n",
        "#import reguler expression \n",
        "import re\n",
        "\n",
        "#import textblob \n",
        "from textblob import TextBlob\n",
        "\n",
        "#visualization \n",
        "import matplotlib.pyplot as plt\n",
        "import seaborn as sns \n",
        "%matplotlib inline\n",
        "\n",
        "#import visualization module \n",
        "import matplotlib.pyplot as plt\n",
        "import seaborn as sns\n",
        "from wordcloud import WordCloud, STOPWORDS\n",
        "\n",
        "#import tqdm \n",
        "from tqdm import tqdm \n",
        "tqdm.pandas()\n",
        "\n",
        "#import beaurtiful soup \n",
        "from bs4 import BeautifulSoup\n",
        "\n",
        "#save model \n",
        "import pickle \n",
        "\n",
        "#textblob\n",
        "from textblob import Word\n",
        "\n",
        "#Modeling\n",
        "#import sklearn preprocessing \n",
        "from sklearn.pipeline import Pipeline\n",
        "from sklearn.feature_extraction.text import CountVectorizer\n",
        "from sklearn.feature_extraction.text import TfidfTransformer\n",
        "from sklearn.feature_extraction.text import TfidfVectorizer\n",
        "\n",
        "#import sklearn for modeling\n",
        "from sklearn.naive_bayes import MultinomialNB\n",
        "from sklearn.linear_model import LogisticRegression\n",
        "from sklearn.model_selection import train_test_split\n",
        "\n",
        "#import sklearn for model evaluation \n",
        "from sklearn.metrics import confusion_matrix, classification_report\n",
        "from sklearn.metrics import accuracy_score, precision_score, recall_score, f1_score"
      ],
      "execution_count": 369,
      "outputs": [
        {
          "output_type": "stream",
          "text": [
            "[nltk_data] Downloading package stopwords to /root/nltk_data...\n",
            "[nltk_data]   Package stopwords is already up-to-date!\n"
          ],
          "name": "stdout"
        }
      ]
    },
    {
      "cell_type": "markdown",
      "metadata": {
        "id": "7ZGs3LyJj2uq",
        "colab_type": "text"
      },
      "source": [
        "## Import Dataset"
      ]
    },
    {
      "cell_type": "code",
      "metadata": {
        "id": "AGWHF9R932Kp",
        "colab_type": "code",
        "colab": {}
      },
      "source": [
        "data=pd.read_csv('clean_tweet.csv')"
      ],
      "execution_count": 0,
      "outputs": []
    },
    {
      "cell_type": "markdown",
      "metadata": {
        "id": "Of2-dcmelE66",
        "colab_type": "text"
      },
      "source": [
        "## Data Exploration"
      ]
    },
    {
      "cell_type": "markdown",
      "metadata": {
        "id": "Nejqg159lkPg",
        "colab_type": "text"
      },
      "source": [
        "**Informasi ukuran dimensi data**"
      ]
    },
    {
      "cell_type": "code",
      "metadata": {
        "id": "wQ44wTo4lgoO",
        "colab_type": "code",
        "outputId": "fac39b0c-fdb1-47cc-cd58-4519e8be7c9b",
        "colab": {
          "base_uri": "https://localhost:8080/",
          "height": 34
        }
      },
      "source": [
        "data.shape"
      ],
      "execution_count": 371,
      "outputs": [
        {
          "output_type": "execute_result",
          "data": {
            "text/plain": [
              "(1600000, 2)"
            ]
          },
          "metadata": {
            "tags": []
          },
          "execution_count": 371
        }
      ]
    },
    {
      "cell_type": "markdown",
      "metadata": {
        "id": "N7M10UL8l5JF",
        "colab_type": "text"
      },
      "source": [
        "Dari informasi diatas, terlihat bahwa ukuran data 'tweet' terdiri dari 1.600.000 baris serta dua feature(variable) yaitu feature **text** yang terdiri atas tweet netizen dan feature **target** yang berisi hasil jenis sentiment tweet netizen (0: negative, 1: positive)."
      ]
    },
    {
      "cell_type": "markdown",
      "metadata": {
        "id": "1_iSWYgarLsU",
        "colab_type": "text"
      },
      "source": [
        "#### Convert target to string"
      ]
    },
    {
      "cell_type": "markdown",
      "metadata": {
        "id": "0iGLIj2-kNHu",
        "colab_type": "text"
      },
      "source": [
        "**Mengubah kolom 'target' menjadi string (0= Negative, 1: Positive) untuk mempermudah dalam explorasi data.**"
      ]
    },
    {
      "cell_type": "code",
      "metadata": {
        "id": "NgsLQJaiWwyH",
        "colab_type": "code",
        "outputId": "d00e865a-de5f-48ac-e245-3d437b488666",
        "colab": {
          "base_uri": "https://localhost:8080/",
          "height": 122
        }
      },
      "source": [
        "data['target'][data['target']==1]='positive'\n",
        "data['target'][data['target']==0]='negative'"
      ],
      "execution_count": 372,
      "outputs": [
        {
          "output_type": "stream",
          "text": [
            "/usr/local/lib/python3.6/dist-packages/ipykernel_launcher.py:1: SettingWithCopyWarning: \n",
            "A value is trying to be set on a copy of a slice from a DataFrame\n",
            "\n",
            "See the caveats in the documentation: http://pandas.pydata.org/pandas-docs/stable/indexing.html#indexing-view-versus-copy\n",
            "  \"\"\"Entry point for launching an IPython kernel.\n"
          ],
          "name": "stderr"
        }
      ]
    },
    {
      "cell_type": "markdown",
      "metadata": {
        "id": "tM21L6XPlX5Y",
        "colab_type": "text"
      },
      "source": [
        "**Melihat 5 data teratas**"
      ]
    },
    {
      "cell_type": "code",
      "metadata": {
        "id": "IBe6CU5E3_A5",
        "colab_type": "code",
        "outputId": "efc01e73-ea00-4d1d-b0b1-ea70067dce21",
        "colab": {
          "base_uri": "https://localhost:8080/",
          "height": 204
        }
      },
      "source": [
        "data.head()"
      ],
      "execution_count": 373,
      "outputs": [
        {
          "output_type": "execute_result",
          "data": {
            "text/html": [
              "<div>\n",
              "<style scoped>\n",
              "    .dataframe tbody tr th:only-of-type {\n",
              "        vertical-align: middle;\n",
              "    }\n",
              "\n",
              "    .dataframe tbody tr th {\n",
              "        vertical-align: top;\n",
              "    }\n",
              "\n",
              "    .dataframe thead th {\n",
              "        text-align: right;\n",
              "    }\n",
              "</style>\n",
              "<table border=\"1\" class=\"dataframe\">\n",
              "  <thead>\n",
              "    <tr style=\"text-align: right;\">\n",
              "      <th></th>\n",
              "      <th>text</th>\n",
              "      <th>target</th>\n",
              "    </tr>\n",
              "  </thead>\n",
              "  <tbody>\n",
              "    <tr>\n",
              "      <th>0</th>\n",
              "      <td>awww that s a bummer you shoulda got david car...</td>\n",
              "      <td>negative</td>\n",
              "    </tr>\n",
              "    <tr>\n",
              "      <th>1</th>\n",
              "      <td>is upset that he can t update his facebook by ...</td>\n",
              "      <td>negative</td>\n",
              "    </tr>\n",
              "    <tr>\n",
              "      <th>2</th>\n",
              "      <td>i dived many times for the ball managed to sav...</td>\n",
              "      <td>negative</td>\n",
              "    </tr>\n",
              "    <tr>\n",
              "      <th>3</th>\n",
              "      <td>my whole body feels itchy and like its on fire</td>\n",
              "      <td>negative</td>\n",
              "    </tr>\n",
              "    <tr>\n",
              "      <th>4</th>\n",
              "      <td>no it s not behaving at all i m mad why am i h...</td>\n",
              "      <td>negative</td>\n",
              "    </tr>\n",
              "  </tbody>\n",
              "</table>\n",
              "</div>"
            ],
            "text/plain": [
              "                                                text    target\n",
              "0  awww that s a bummer you shoulda got david car...  negative\n",
              "1  is upset that he can t update his facebook by ...  negative\n",
              "2  i dived many times for the ball managed to sav...  negative\n",
              "3     my whole body feels itchy and like its on fire  negative\n",
              "4  no it s not behaving at all i m mad why am i h...  negative"
            ]
          },
          "metadata": {
            "tags": []
          },
          "execution_count": 373
        }
      ]
    },
    {
      "cell_type": "markdown",
      "metadata": {
        "id": "aVDl6X71m86o",
        "colab_type": "text"
      },
      "source": [
        "**Melihat 5 data terbawah**"
      ]
    },
    {
      "cell_type": "code",
      "metadata": {
        "id": "LNoP0AnH4WMz",
        "colab_type": "code",
        "outputId": "41a9b456-faca-428a-db21-462eb8a1a361",
        "colab": {
          "base_uri": "https://localhost:8080/",
          "height": 204
        }
      },
      "source": [
        "data.tail()"
      ],
      "execution_count": 374,
      "outputs": [
        {
          "output_type": "execute_result",
          "data": {
            "text/html": [
              "<div>\n",
              "<style scoped>\n",
              "    .dataframe tbody tr th:only-of-type {\n",
              "        vertical-align: middle;\n",
              "    }\n",
              "\n",
              "    .dataframe tbody tr th {\n",
              "        vertical-align: top;\n",
              "    }\n",
              "\n",
              "    .dataframe thead th {\n",
              "        text-align: right;\n",
              "    }\n",
              "</style>\n",
              "<table border=\"1\" class=\"dataframe\">\n",
              "  <thead>\n",
              "    <tr style=\"text-align: right;\">\n",
              "      <th></th>\n",
              "      <th>text</th>\n",
              "      <th>target</th>\n",
              "    </tr>\n",
              "  </thead>\n",
              "  <tbody>\n",
              "    <tr>\n",
              "      <th>1599995</th>\n",
              "      <td>just woke up having no school is the best feel...</td>\n",
              "      <td>positive</td>\n",
              "    </tr>\n",
              "    <tr>\n",
              "      <th>1599996</th>\n",
              "      <td>thewdb com very cool to hear old walt intervie...</td>\n",
              "      <td>positive</td>\n",
              "    </tr>\n",
              "    <tr>\n",
              "      <th>1599997</th>\n",
              "      <td>are you ready for your mojo makeover ask me fo...</td>\n",
              "      <td>positive</td>\n",
              "    </tr>\n",
              "    <tr>\n",
              "      <th>1599998</th>\n",
              "      <td>happy th birthday to my boo of alll time tupac...</td>\n",
              "      <td>positive</td>\n",
              "    </tr>\n",
              "    <tr>\n",
              "      <th>1599999</th>\n",
              "      <td>happy charitytuesday</td>\n",
              "      <td>positive</td>\n",
              "    </tr>\n",
              "  </tbody>\n",
              "</table>\n",
              "</div>"
            ],
            "text/plain": [
              "                                                      text    target\n",
              "1599995  just woke up having no school is the best feel...  positive\n",
              "1599996  thewdb com very cool to hear old walt intervie...  positive\n",
              "1599997  are you ready for your mojo makeover ask me fo...  positive\n",
              "1599998  happy th birthday to my boo of alll time tupac...  positive\n",
              "1599999                               happy charitytuesday  positive"
            ]
          },
          "metadata": {
            "tags": []
          },
          "execution_count": 374
        }
      ]
    },
    {
      "cell_type": "markdown",
      "metadata": {
        "id": "2gseFfUinKcm",
        "colab_type": "text"
      },
      "source": [
        "**Informasi tipe data untuk setiap feature**"
      ]
    },
    {
      "cell_type": "code",
      "metadata": {
        "id": "FDmnilkm4b-B",
        "colab_type": "code",
        "outputId": "d5af20a8-2994-4f4c-cea2-eedc830d31e2",
        "colab": {
          "base_uri": "https://localhost:8080/",
          "height": 136
        }
      },
      "source": [
        "data.info()"
      ],
      "execution_count": 375,
      "outputs": [
        {
          "output_type": "stream",
          "text": [
            "<class 'pandas.core.frame.DataFrame'>\n",
            "RangeIndex: 1600000 entries, 0 to 1599999\n",
            "Data columns (total 2 columns):\n",
            "text      1596753 non-null object\n",
            "target    1600000 non-null object\n",
            "dtypes: object(2)\n",
            "memory usage: 24.4+ MB\n"
          ],
          "name": "stdout"
        }
      ]
    },
    {
      "cell_type": "markdown",
      "metadata": {
        "id": "zH4llj1fnSGB",
        "colab_type": "text"
      },
      "source": [
        "Dari hasil diatas, didapatkan informasi tentang tipe data untuk setiap feature dimana kedua feature memiliki tipe data string(kata)."
      ]
    },
    {
      "cell_type": "markdown",
      "metadata": {
        "id": "Wi3nYm8trVbx",
        "colab_type": "text"
      },
      "source": [
        "#### Missing Values"
      ]
    },
    {
      "cell_type": "markdown",
      "metadata": {
        "id": "0gtSZHFbn8Se",
        "colab_type": "text"
      },
      "source": [
        "**Checking Missing Values**"
      ]
    },
    {
      "cell_type": "markdown",
      "metadata": {
        "id": "4kwMOQEsoEqS",
        "colab_type": "text"
      },
      "source": [
        "**Mengecek apakah terdapat missing values pada data 'tweet'**"
      ]
    },
    {
      "cell_type": "code",
      "metadata": {
        "id": "czQ21Rkz4dsX",
        "colab_type": "code",
        "outputId": "dd9f190a-c925-4506-8e61-268be9ac535a",
        "colab": {
          "base_uri": "https://localhost:8080/",
          "height": 68
        }
      },
      "source": [
        "count_missing = data.isnull().sum().sort_values(ascending = False)\n",
        "count_missing"
      ],
      "execution_count": 376,
      "outputs": [
        {
          "output_type": "execute_result",
          "data": {
            "text/plain": [
              "text      3247\n",
              "target       0\n",
              "dtype: int64"
            ]
          },
          "metadata": {
            "tags": []
          },
          "execution_count": 376
        }
      ]
    },
    {
      "cell_type": "markdown",
      "metadata": {
        "id": "kHwfOklbogOz",
        "colab_type": "text"
      },
      "source": [
        "Dari data tersebut terdapat missing values dari kolom 'text' sebanyak 3247. Maka, untuk langkah selanjutnya dilakukan penghapusan missing values tersebut."
      ]
    },
    {
      "cell_type": "markdown",
      "metadata": {
        "id": "LsmqTMObo_1P",
        "colab_type": "text"
      },
      "source": [
        "**Handle missing Value**"
      ]
    },
    {
      "cell_type": "markdown",
      "metadata": {
        "id": "EwrMi5sipFt3",
        "colab_type": "text"
      },
      "source": [
        "Penanganan missing values dilakukan dengan menghapus baris data yang mengandung missing values, karena keberadaan missing values dapat mengakibatkan bias pada data sehingga perlu dihapus."
      ]
    },
    {
      "cell_type": "code",
      "metadata": {
        "id": "ujVOxBWm4p8V",
        "colab_type": "code",
        "colab": {}
      },
      "source": [
        "data= data.dropna()"
      ],
      "execution_count": 0,
      "outputs": []
    },
    {
      "cell_type": "markdown",
      "metadata": {
        "id": "svsI-abjp7Wx",
        "colab_type": "text"
      },
      "source": [
        "**Melakukan checking missing value kembali setelah dilakukan penghapusan missing values**"
      ]
    },
    {
      "cell_type": "code",
      "metadata": {
        "id": "6mvONSU_4u2T",
        "colab_type": "code",
        "outputId": "df817f2d-a074-4002-a573-d6531c7f7adb",
        "colab": {
          "base_uri": "https://localhost:8080/",
          "height": 102
        }
      },
      "source": [
        "# Checking number of missing values each variables\n",
        "\n",
        "count_missing = data.isnull().sum().sort_values(ascending = False)\n",
        "count_missing"
      ],
      "execution_count": 378,
      "outputs": [
        {
          "output_type": "execute_result",
          "data": {
            "text/plain": [
              "target    0\n",
              "text      0\n",
              "dtype: int64"
            ]
          },
          "metadata": {
            "tags": []
          },
          "execution_count": 366
        },
        {
          "output_type": "execute_result",
          "data": {
            "text/plain": [
              "target    0\n",
              "text      0\n",
              "dtype: int64"
            ]
          },
          "metadata": {
            "tags": []
          },
          "execution_count": 378
        }
      ]
    },
    {
      "cell_type": "markdown",
      "metadata": {
        "id": "aq9eF27pqOvW",
        "colab_type": "text"
      },
      "source": [
        "Ternyata, terbukti bahwa sudah tidak ada missing values pada data."
      ]
    },
    {
      "cell_type": "markdown",
      "metadata": {
        "id": "LjSdpyP2qc7Z",
        "colab_type": "text"
      },
      "source": [
        "**Mengecek kembali ukuran data setelah dilakukan penghapusan missing values**"
      ]
    },
    {
      "cell_type": "code",
      "metadata": {
        "id": "Z1ZpIORl4zmC",
        "colab_type": "code",
        "outputId": "f5cdde2f-0ad0-4b52-9c82-9ea8bbaeba59",
        "colab": {
          "base_uri": "https://localhost:8080/",
          "height": 34
        }
      },
      "source": [
        "data.shape"
      ],
      "execution_count": 379,
      "outputs": [
        {
          "output_type": "execute_result",
          "data": {
            "text/plain": [
              "(1596753, 2)"
            ]
          },
          "metadata": {
            "tags": []
          },
          "execution_count": 367
        },
        {
          "output_type": "execute_result",
          "data": {
            "text/plain": [
              "(1596753, 2)"
            ]
          },
          "metadata": {
            "tags": []
          },
          "execution_count": 379
        }
      ]
    },
    {
      "cell_type": "markdown",
      "metadata": {
        "id": "czewncZBqsZ8",
        "colab_type": "text"
      },
      "source": [
        "Setelah dilakukan missing values, ukuran data menjadi 1.596753 baris dengan 2 features."
      ]
    },
    {
      "cell_type": "markdown",
      "metadata": {
        "id": "rDFEBDSpc0iD",
        "colab_type": "text"
      },
      "source": [
        "#### Visualization"
      ]
    },
    {
      "cell_type": "code",
      "metadata": {
        "id": "fOfDwcysdVPq",
        "colab_type": "code",
        "colab": {}
      },
      "source": [
        "#count sentiment \n",
        "sentiment = data.groupby(['target'])['target'].count()\n",
        "\n",
        "#make dataframe that will be created a chart \n",
        "chart = pd.DataFrame(sentiment)\n",
        "chart['tweet_count'] = chart['target']\n",
        "chart.drop(['target'], axis = 1, inplace = True )\n",
        "chart = chart.reset_index()\n",
        "\n",
        "#make a proportion of the number of tweet of each sentiment \n",
        "chart['percent'] = chart['tweet_count']/chart['tweet_count'].sum()"
      ],
      "execution_count": 0,
      "outputs": []
    },
    {
      "cell_type": "code",
      "metadata": {
        "id": "mFsRgVGLdyZB",
        "colab_type": "code",
        "colab": {
          "base_uri": "https://localhost:8080/",
          "height": 295
        },
        "outputId": "c107b21c-687e-4b5d-9e02-1b8f42722156"
      },
      "source": [
        "#make a barchar\n",
        "ax = sns.barplot(x= 'target', y='tweet_count', data=chart)\n",
        "ax = ax.set_title('The number of sentiment for each sentiment') "
      ],
      "execution_count": 386,
      "outputs": [
        {
          "output_type": "display_data",
          "data": {
            "image/png": "[encoded data removed]",
            "text/plain": [
              "<Figure size 432x288 with 1 Axes>"
            ]
          },
          "metadata": {
            "tags": []
          }
        }
      ]
    },
    {
      "cell_type": "code",
      "metadata": {
        "id": "ysf_eb2aep7O",
        "colab_type": "code",
        "colab": {
          "base_uri": "https://localhost:8080/",
          "height": 432
        },
        "outputId": "780c1b43-a9fb-4c42-9cdb-c12919ecaa20"
      },
      "source": [
        "colors = [ 'blue','orange']\n",
        "explode = (0, 0.2)  # explode 1st slice\n",
        "# Plot\n",
        "figure = plt.figure(figsize= (10,6))\n",
        "plt.pie(chart['tweet_count'], explode=explode, labels=chart['target'], colors=colors,\n",
        "autopct='%1.1f%%', shadow=True, startangle=140)\n",
        "plt.axis('equal')"
      ],
      "execution_count": 388,
      "outputs": [
        {
          "output_type": "execute_result",
          "data": {
            "text/plain": [
              "(-1.1154236238431436,\n",
              " 1.2556590652652153,\n",
              " -1.116668849341659,\n",
              " 1.2815710061969938)"
            ]
          },
          "metadata": {
            "tags": []
          },
          "execution_count": 388
        },
        {
          "output_type": "display_data",
          "data": {
            "image/png": "[encoded data removed]",
            "text/plain": [
              "<Figure size 720x432 with 1 Axes>"
            ]
          },
          "metadata": {
            "tags": []
          }
        }
      ]
    },
    {
      "cell_type": "markdown",
      "metadata": {
        "id": "LvDMhfoxmDAG",
        "colab_type": "text"
      },
      "source": [
        "Berdasarkan visualisasi tersebut terlihat bahwa data dalam kondisi 'balanced' yang artinya target class atau klasifikasi yang dilakukan sudah seimbang. Jumlah antara sentiment negative dan sentiment positive memiliki proporsi yang sama yaitu 50%."
      ]
    },
    {
      "cell_type": "markdown",
      "metadata": {
        "id": "4bPRVrNXq-Xr",
        "colab_type": "text"
      },
      "source": [
        "#### Sampling Data"
      ]
    },
    {
      "cell_type": "markdown",
      "metadata": {
        "id": "Nh15YxQxmcAk",
        "colab_type": "text"
      },
      "source": [
        "Ukuran data yang terlalu besar mengakibatkan proses analysis menjadi lama. Oleh karena itu, saya membatasi ukuran data yang saya gunakan dengan menggunakan metode random sampling berstrata. \n",
        "\n",
        "1.   Bagi data menjadi jumlah class 'target', karena pada data ini kelas target ada dua maka saya membagi data menjadi dua bagian, yakni datapositive dan datanegative.\n",
        "2.   Kemudian untuk setiap data saya ambil 15.000 baris\n",
        "3.   Kemudian menggabungkan kedua data tersebut menjadi datatweet yang selanjutnya digunakan untuk proses analysis.\n",
        "\n"
      ]
    },
    {
      "cell_type": "markdown",
      "metadata": {
        "id": "yknd5bgzrbmY",
        "colab_type": "text"
      },
      "source": [
        "Memisah data menjadi **datapositive** (tweet yang memiliki target 'positive') dan **datanegative** (tweet yang memiliki target 'negative')."
      ]
    },
    {
      "cell_type": "code",
      "metadata": {
        "id": "9BNAqlHC68JJ",
        "colab_type": "code",
        "colab": {}
      },
      "source": [
        "datapositive=data[data['target']=='positive']\n",
        "datanegative=data[data['target']=='negative']"
      ],
      "execution_count": 0,
      "outputs": []
    },
    {
      "cell_type": "markdown",
      "metadata": {
        "id": "yQrOcwTdsSLD",
        "colab_type": "text"
      },
      "source": [
        "Dimensi ukuran **datapositive** dan **datanegative**."
      ]
    },
    {
      "cell_type": "code",
      "metadata": {
        "id": "iYP4iCrJ8Tzf",
        "colab_type": "code",
        "outputId": "84fcb162-788b-4278-c301-ece5e34240b8",
        "colab": {
          "base_uri": "https://localhost:8080/",
          "height": 34
        }
      },
      "source": [
        "datapositive.shape"
      ],
      "execution_count": 390,
      "outputs": [
        {
          "output_type": "execute_result",
          "data": {
            "text/plain": [
              "(798250, 2)"
            ]
          },
          "metadata": {
            "tags": []
          },
          "execution_count": 390
        }
      ]
    },
    {
      "cell_type": "code",
      "metadata": {
        "id": "s_61HqXP8Yy3",
        "colab_type": "code",
        "outputId": "0f7df0ef-7867-401d-86b5-f54a7f4dab31",
        "colab": {
          "base_uri": "https://localhost:8080/",
          "height": 34
        }
      },
      "source": [
        "datanegative.shape"
      ],
      "execution_count": 391,
      "outputs": [
        {
          "output_type": "execute_result",
          "data": {
            "text/plain": [
              "(798503, 2)"
            ]
          },
          "metadata": {
            "tags": []
          },
          "execution_count": 391
        }
      ]
    },
    {
      "cell_type": "markdown",
      "metadata": {
        "id": "R7UcFW6wsloF",
        "colab_type": "text"
      },
      "source": [
        "Dari informasi diatas, datapositive memiliki jumlah baris 798.250 baris dan datanegative memiliki jumlah baris 798503 baris. Maka, ukuran datapositive dan datanegative tidak terlalu beda jauh."
      ]
    },
    {
      "cell_type": "markdown",
      "metadata": {
        "id": "uBDa3BYjs-_8",
        "colab_type": "text"
      },
      "source": [
        "**Random sampling**"
      ]
    },
    {
      "cell_type": "markdown",
      "metadata": {
        "id": "FLNtEFjltgKH",
        "colab_type": "text"
      },
      "source": [
        "Sampling ini dilakukan dengan mengambil random terhadap datapositive dan datanegative sejumlah 15.000 baris sehingga nantinya data tweet yang akan dianalisis memiliki ukuran 30000 baris."
      ]
    },
    {
      "cell_type": "code",
      "metadata": {
        "id": "aB76CBgm85AA",
        "colab_type": "code",
        "colab": {}
      },
      "source": [
        "datapositive= datapositive.sample(n=15000, random_state=1) "
      ],
      "execution_count": 0,
      "outputs": []
    },
    {
      "cell_type": "code",
      "metadata": {
        "id": "K9LW5V27-evN",
        "colab_type": "code",
        "colab": {}
      },
      "source": [
        "datanegative= datanegative.sample(n=15000, random_state=1) "
      ],
      "execution_count": 0,
      "outputs": []
    },
    {
      "cell_type": "code",
      "metadata": {
        "id": "5DJgOrvX-leE",
        "colab_type": "code",
        "colab": {}
      },
      "source": [
        "#Menggabungkan datapositive dan datanegative\n",
        "frames=[datapositive, datanegative]\n",
        "datatweet=pd.concat(frames)"
      ],
      "execution_count": 0,
      "outputs": []
    },
    {
      "cell_type": "code",
      "metadata": {
        "id": "tArHfz_s-8hz",
        "colab_type": "code",
        "outputId": "2895d967-34e9-4dcf-8b6c-3ed78dc230bd",
        "colab": {
          "base_uri": "https://localhost:8080/",
          "height": 34
        }
      },
      "source": [
        "datatweet.shape"
      ],
      "execution_count": 395,
      "outputs": [
        {
          "output_type": "execute_result",
          "data": {
            "text/plain": [
              "(30000, 2)"
            ]
          },
          "metadata": {
            "tags": []
          },
          "execution_count": 395
        }
      ]
    },
    {
      "cell_type": "markdown",
      "metadata": {
        "id": "JRedpfdouBgd",
        "colab_type": "text"
      },
      "source": [
        "#### Drop Duplicate Tweet"
      ]
    },
    {
      "cell_type": "markdown",
      "metadata": {
        "id": "jiv2DDLIusO8",
        "colab_type": "text"
      },
      "source": [
        "Pada tahap ini dilakukan penghapusan duplicate tweet pada data. Tujuannya agar tidak ada redundant data pada data tweet."
      ]
    },
    {
      "cell_type": "code",
      "metadata": {
        "id": "QKw0RM17_M_r",
        "colab_type": "code",
        "colab": {}
      },
      "source": [
        "#drop duplicate tweet \n",
        "g_unique = set()\n",
        "for item in datatweet['text']:\n",
        "        g_unique.add(item) # ensures the element will only be copied if not already in the set\n",
        "tweet = []\n",
        "for item in g_unique:\n",
        "    tweet.append(item)\n",
        "    datatwiter = pd.DataFrame(tweet,columns = ['text'])"
      ],
      "execution_count": 0,
      "outputs": []
    },
    {
      "cell_type": "markdown",
      "metadata": {
        "id": "lV_liExxvE09",
        "colab_type": "text"
      },
      "source": [
        "## Data Preprocessing"
      ]
    },
    {
      "cell_type": "markdown",
      "metadata": {
        "id": "68SZBPV8vMx-",
        "colab_type": "text"
      },
      "source": [
        "### Basic Text Preprocessing"
      ]
    },
    {
      "cell_type": "markdown",
      "metadata": {
        "id": "7nBlshfT_0Uq",
        "colab_type": "text"
      },
      "source": [
        "#### Lower Casing"
      ]
    },
    {
      "cell_type": "markdown",
      "metadata": {
        "id": "paiiL9kfvh6J",
        "colab_type": "text"
      },
      "source": [
        "Pada step ini dilakukan 'lower casing' kata pada tweet agar data yang sama akan dideteksi menjadi satu kelompok. "
      ]
    },
    {
      "cell_type": "code",
      "metadata": {
        "id": "MFNWw2B5_evD",
        "colab_type": "code",
        "outputId": "1fb7d415-1775-4b74-8408-46f7f3b3245a",
        "colab": {
          "base_uri": "https://localhost:8080/",
          "height": 119
        }
      },
      "source": [
        "datatwiter['text'] = datatwiter['text'].apply(lambda x: \" \".join(x.lower() for x in x.split()))\n",
        "datatwiter['text'].head()"
      ],
      "execution_count": 397,
      "outputs": [
        {
          "output_type": "execute_result",
          "data": {
            "text/plain": [
              "0    oh moma likes shannon brown did u c him showca...\n",
              "1    im watching the google wave preview cause idk ...\n",
              "2    hmmm possibly tempting ya know i have never ev...\n",
              "3                                 am going to the shop\n",
              "4                                  its nearly all gone\n",
              "Name: text, dtype: object"
            ]
          },
          "metadata": {
            "tags": []
          },
          "execution_count": 397
        }
      ]
    },
    {
      "cell_type": "markdown",
      "metadata": {
        "id": "-IM6A0vC_-jy",
        "colab_type": "text"
      },
      "source": [
        "#### Punctuation removal"
      ]
    },
    {
      "cell_type": "markdown",
      "metadata": {
        "id": "HYQGztUvwARI",
        "colab_type": "text"
      },
      "source": [
        "Pada langkah ini akan dilakukan menghapus semua tanda baca dari string. Jika karakter adalah tanda baca, itu akan digantikan dengan string kosong."
      ]
    },
    {
      "cell_type": "code",
      "metadata": {
        "id": "4uFGJcan_sMk",
        "colab_type": "code",
        "outputId": "4e6a0ac3-cd05-4800-b8fb-ba0429013060",
        "colab": {
          "base_uri": "https://localhost:8080/",
          "height": 204
        }
      },
      "source": [
        "datatwiter['text'] = datatwiter['text'].str.replace('[^\\w\\s]','')  #replace w=word dan s=number to space\n",
        "datatwiter.head()"
      ],
      "execution_count": 398,
      "outputs": [
        {
          "output_type": "execute_result",
          "data": {
            "text/html": [
              "<div>\n",
              "<style scoped>\n",
              "    .dataframe tbody tr th:only-of-type {\n",
              "        vertical-align: middle;\n",
              "    }\n",
              "\n",
              "    .dataframe tbody tr th {\n",
              "        vertical-align: top;\n",
              "    }\n",
              "\n",
              "    .dataframe thead th {\n",
              "        text-align: right;\n",
              "    }\n",
              "</style>\n",
              "<table border=\"1\" class=\"dataframe\">\n",
              "  <thead>\n",
              "    <tr style=\"text-align: right;\">\n",
              "      <th></th>\n",
              "      <th>text</th>\n",
              "    </tr>\n",
              "  </thead>\n",
              "  <tbody>\n",
              "    <tr>\n",
              "      <th>0</th>\n",
              "      <td>oh moma likes shannon brown did u c him showca...</td>\n",
              "    </tr>\n",
              "    <tr>\n",
              "      <th>1</th>\n",
              "      <td>im watching the google wave preview cause idk ...</td>\n",
              "    </tr>\n",
              "    <tr>\n",
              "      <th>2</th>\n",
              "      <td>hmmm possibly tempting ya know i have never ev...</td>\n",
              "    </tr>\n",
              "    <tr>\n",
              "      <th>3</th>\n",
              "      <td>am going to the shop</td>\n",
              "    </tr>\n",
              "    <tr>\n",
              "      <th>4</th>\n",
              "      <td>its nearly all gone</td>\n",
              "    </tr>\n",
              "  </tbody>\n",
              "</table>\n",
              "</div>"
            ],
            "text/plain": [
              "                                                text\n",
              "0  oh moma likes shannon brown did u c him showca...\n",
              "1  im watching the google wave preview cause idk ...\n",
              "2  hmmm possibly tempting ya know i have never ev...\n",
              "3                               am going to the shop\n",
              "4                                its nearly all gone"
            ]
          },
          "metadata": {
            "tags": []
          },
          "execution_count": 398
        }
      ]
    },
    {
      "cell_type": "markdown",
      "metadata": {
        "id": "qpvjLSRiAa3N",
        "colab_type": "text"
      },
      "source": [
        "#### Stopward Removal"
      ]
    },
    {
      "cell_type": "markdown",
      "metadata": {
        "id": "NMfqwzutwQbj",
        "colab_type": "text"
      },
      "source": [
        "Langkah ini dilakukan penghapusan preposisi (kata depan) pada teks tweet. Penghapusan ini berarti bahwa kata depan akan diabaiakan dalam proses berikutnya."
      ]
    },
    {
      "cell_type": "code",
      "metadata": {
        "id": "XtXcQwDtANGk",
        "colab_type": "code",
        "outputId": "e201e14f-f576-4dca-db6e-68686e03f581",
        "colab": {
          "base_uri": "https://localhost:8080/",
          "height": 204
        }
      },
      "source": [
        "stop = stopwords.words('english')\n",
        "datatwiter['text'] = datatwiter['text'].apply(lambda x: \" \".join(x for x in x.split() if x not in stop))\n",
        "datatwiter['text'].head(10)"
      ],
      "execution_count": 399,
      "outputs": [
        {
          "output_type": "execute_result",
          "data": {
            "text/plain": [
              "0    oh moma likes shannon brown u c showcase tongu...\n",
              "1    im watching google wave preview cause idk hell...\n",
              "2    hmmm possibly tempting ya know never ever ever...\n",
              "3                                           going shop\n",
              "4                                          nearly gone\n",
              "5                   bon tothom bon cap de setmana qevc\n",
              "6    yw sorry goin thru fair kids live play b happy...\n",
              "7                             kita happy mother day gf\n",
              "8              yay closed perry home georgetown whooaa\n",
              "9                       went qdoba veggie burrito good\n",
              "Name: text, dtype: object"
            ]
          },
          "metadata": {
            "tags": []
          },
          "execution_count": 399
        }
      ]
    },
    {
      "cell_type": "markdown",
      "metadata": {
        "id": "muUUtrA4Afok",
        "colab_type": "text"
      },
      "source": [
        " #### Frequent words removal"
      ]
    },
    {
      "cell_type": "markdown",
      "metadata": {
        "id": "GTpZaoHbyGai",
        "colab_type": "text"
      },
      "source": [
        "Langkah ini dilakukan untuk  mengidentifikasi kata yang sering muncul dalam teks. Keberadaan kata tersebut tidak penting karena hanya mengulangi sehingga perlu dilakukan penghapusan. Namun, dalam beberapa kasus, kata-katanya diulang karena penting sehingga langkah berikutnya dapat dihapus atau dipertahankan."
      ]
    },
    {
      "cell_type": "code",
      "metadata": {
        "id": "9uM448ltAWmZ",
        "colab_type": "code",
        "outputId": "53674572-ead3-4004-d1b4-505ead2d3aa6",
        "colab": {
          "base_uri": "https://localhost:8080/",
          "height": 204
        }
      },
      "source": [
        "#Counting frequent word\n",
        "freq = pd.Series(' '.join(datatwiter['text']).split()).value_counts()[:10]\n",
        "freq"
      ],
      "execution_count": 400,
      "outputs": [
        {
          "output_type": "execute_result",
          "data": {
            "text/plain": [
              "day      1636\n",
              "good     1629\n",
              "like     1518\n",
              "get      1477\n",
              "go       1429\n",
              "today    1279\n",
              "going    1244\n",
              "work     1181\n",
              "got      1158\n",
              "lol      1115\n",
              "dtype: int64"
            ]
          },
          "metadata": {
            "tags": []
          },
          "execution_count": 400
        }
      ]
    },
    {
      "cell_type": "markdown",
      "metadata": {
        "id": "PtNVOHEwyYQr",
        "colab_type": "text"
      },
      "source": [
        "Karena kata yang sering muncul adalah kata-kata tentang keluhan atau kegiatan yang ditweet oleh netizen seperti kata 'good', 'work', 'today'. Maka, selanjutnya saya memutuskan untuk tidak menghapus kata tersebut."
      ]
    },
    {
      "cell_type": "markdown",
      "metadata": {
        "id": "84CWtLxVBHvI",
        "colab_type": "text"
      },
      "source": [
        "#### Rare words removal"
      ]
    },
    {
      "cell_type": "markdown",
      "metadata": {
        "id": "5kekhFbky_-l",
        "colab_type": "text"
      },
      "source": [
        "Langkah ini mengidentifikasi kata yang tidak sering muncul."
      ]
    },
    {
      "cell_type": "code",
      "metadata": {
        "id": "yEIct5kYA3nM",
        "colab_type": "code",
        "outputId": "d1a30ca3-4e01-4b49-fed9-9a16394d8d78",
        "colab": {
          "base_uri": "https://localhost:8080/",
          "height": 204
        }
      },
      "source": [
        "rare_word = pd.Series(' '.join(datatwiter['text']).split()).value_counts()[-10:]\n",
        "rare_word"
      ],
      "execution_count": 401,
      "outputs": [
        {
          "output_type": "execute_result",
          "data": {
            "text/plain": [
              "commuters      1\n",
              "ieyecaptain    1\n",
              "ties           1\n",
              "posst          1\n",
              "dangling       1\n",
              "mainz          1\n",
              "nostri         1\n",
              "decades        1\n",
              "knack          1\n",
              "ayurveda       1\n",
              "dtype: int64"
            ]
          },
          "metadata": {
            "tags": []
          },
          "execution_count": 401
        }
      ]
    },
    {
      "cell_type": "markdown",
      "metadata": {
        "id": "XD6mdQtAzL8v",
        "colab_type": "text"
      },
      "source": [
        "Karena kata jarang muncul dalam teks Tweet, maka langkah selanjutnya adalah melakukan penghapusan."
      ]
    },
    {
      "cell_type": "code",
      "metadata": {
        "id": "WVXQkkLeBed5",
        "colab_type": "code",
        "outputId": "7ce660c1-c2cc-4dbe-d436-d3f93805995f",
        "colab": {
          "base_uri": "https://localhost:8080/",
          "height": 119
        }
      },
      "source": [
        "rare_word = list(rare_word.index)\n",
        "datatwiter['text'] = datatwiter['text'].apply(lambda x: \" \".join(x for x in x.split() if x not in freq))\n",
        "datatwiter['text'].head()"
      ],
      "execution_count": 402,
      "outputs": [
        {
          "output_type": "execute_result",
          "data": {
            "text/plain": [
              "0    oh moma likes shannon brown u c showcase tongu...\n",
              "1    im watching google wave preview cause idk hell...\n",
              "2    hmmm possibly tempting ya know never ever ever...\n",
              "3                                                 shop\n",
              "4                                          nearly gone\n",
              "Name: text, dtype: object"
            ]
          },
          "metadata": {
            "tags": []
          },
          "execution_count": 402
        }
      ]
    },
    {
      "cell_type": "markdown",
      "metadata": {
        "id": "kb8FT4uXBx9S",
        "colab_type": "text"
      },
      "source": [
        "#### Spelling Corection"
      ]
    },
    {
      "cell_type": "markdown",
      "metadata": {
        "id": "HmNUupwbzq75",
        "colab_type": "text"
      },
      "source": [
        "Dalam langkah ini dilakukan ejaan koreksi, sehingga kata yang tidak ditulis dengan benar akan berubah menjadi kata dengan tulisan yang benar dalam kata bahasa Inggris."
      ]
    },
    {
      "cell_type": "code",
      "metadata": {
        "id": "O2hgQmRbB3ky",
        "colab_type": "code",
        "outputId": "7cbcdc18-f7eb-41d8-9c62-b5766be68583",
        "colab": {
          "base_uri": "https://localhost:8080/",
          "height": 119
        }
      },
      "source": [
        "datatwiter['text'][:5].apply(lambda x: str(TextBlob(x).correct()))"
      ],
      "execution_count": 403,
      "outputs": [
        {
          "output_type": "execute_result",
          "data": {
            "text/plain": [
              "0    oh myoma likes cannon brown u c showcase tongu...\n",
              "1      in watching goose wave review cause ink hell ah\n",
              "2    mmm possibly tempting a know never ever ever p...\n",
              "3                                                 shop\n",
              "4                                          nearly gone\n",
              "Name: text, dtype: object"
            ]
          },
          "metadata": {
            "tags": []
          },
          "execution_count": 403
        }
      ]
    },
    {
      "cell_type": "markdown",
      "metadata": {
        "id": "e3q5Xxq3B-Sn",
        "colab_type": "text"
      },
      "source": [
        "#### Tokenization"
      ]
    },
    {
      "cell_type": "markdown",
      "metadata": {
        "id": "Y04699fb0Hss",
        "colab_type": "text"
      },
      "source": [
        "Diberi urutan karakter dan unit dokumen yang ditetapkan, tokenisasi adalah tugas memotong itu menjadi potongan-potongan, disebut token, mungkin pada saat yang sama membuang karakter tertentu, seperti tanda baca."
      ]
    },
    {
      "cell_type": "code",
      "metadata": {
        "id": "wIxtEYbhCDwC",
        "colab_type": "code",
        "outputId": "85e9cf40-25dd-4db2-da72-5ec07f07d773",
        "colab": {
          "base_uri": "https://localhost:8080/",
          "height": 34
        }
      },
      "source": [
        "#nltk.download('punkt')\n",
        "TextBlob(datatwiter['text'][1]).words"
      ],
      "execution_count": 404,
      "outputs": [
        {
          "output_type": "execute_result",
          "data": {
            "text/plain": [
              "WordList(['im', 'watching', 'google', 'wave', 'preview', 'cause', 'idk', 'hell', 'ahh'])"
            ]
          },
          "metadata": {
            "tags": []
          },
          "execution_count": 404
        }
      ]
    },
    {
      "cell_type": "markdown",
      "metadata": {
        "id": "44Kf8GO8CXwK",
        "colab_type": "text"
      },
      "source": [
        "#### Stemming"
      ]
    },
    {
      "cell_type": "markdown",
      "metadata": {
        "id": "I_nnrUR80avs",
        "colab_type": "text"
      },
      "source": [
        "Pada langkah ini dilakukan pengubahan kata ke kata original. Sesuai kamus bahasa inggris."
      ]
    },
    {
      "cell_type": "code",
      "metadata": {
        "id": "oCDqhVRuCdFC",
        "colab_type": "code",
        "colab": {}
      },
      "source": [
        "st = PorterStemmer()\n",
        "datatwiter['text'] = datatwiter['text'][:].apply(lambda x: \" \".join([st.stem(word) for word in x.split()]))"
      ],
      "execution_count": 0,
      "outputs": []
    },
    {
      "cell_type": "markdown",
      "metadata": {
        "id": "AjNK7uqtCsGO",
        "colab_type": "text"
      },
      "source": [
        "#### Lematization"
      ]
    },
    {
      "cell_type": "markdown",
      "metadata": {
        "id": "w7J9J-ih0_Q3",
        "colab_type": "text"
      },
      "source": [
        "Dalam langkah ini, proses pengelompokan bersama-sama bentuk kata yang berbeda sehingga mereka dapat dianalisis sebagai satu item. Sebagai contoh dari kata cried, crying, kemudian cry, kata ini akan menjadi lematisasi untuk ' CR '."
      ]
    },
    {
      "cell_type": "code",
      "metadata": {
        "id": "bqPkuUBmCncZ",
        "colab_type": "code",
        "outputId": "be73da31-898f-4189-dbb2-a6dab83b0023",
        "colab": {
          "base_uri": "https://localhost:8080/",
          "height": 153
        }
      },
      "source": [
        "from textblob import Word\n",
        "nltk.download('wordnet')\n",
        "datatwiter['text'] = datatwiter['text'].apply(lambda x: \" \".join([Word(word).lemmatize() for word in x.split()]))\n",
        "datatwiter['text'].head()"
      ],
      "execution_count": 406,
      "outputs": [
        {
          "output_type": "stream",
          "text": [
            "[nltk_data] Downloading package wordnet to /root/nltk_data...\n",
            "[nltk_data]   Package wordnet is already up-to-date!\n"
          ],
          "name": "stdout"
        },
        {
          "output_type": "execute_result",
          "data": {
            "text/plain": [
              "0    oh moma like shannon brown u c showcas tongu t...\n",
              "1        im watch googl wave preview caus idk hell ahh\n",
              "2    hmmm possibl tempt ya know never ever ever pla...\n",
              "3                                                 shop\n",
              "4                                          nearli gone\n",
              "Name: text, dtype: object"
            ]
          },
          "metadata": {
            "tags": []
          },
          "execution_count": 406
        }
      ]
    },
    {
      "cell_type": "code",
      "metadata": {
        "id": "kLjkOC8TDDja",
        "colab_type": "code",
        "outputId": "f0f09fc1-abef-4fee-b827-755b6158c9a2",
        "colab": {
          "base_uri": "https://localhost:8080/",
          "height": 204
        }
      },
      "source": [
        "datatwiter.head()"
      ],
      "execution_count": 407,
      "outputs": [
        {
          "output_type": "execute_result",
          "data": {
            "text/html": [
              "<div>\n",
              "<style scoped>\n",
              "    .dataframe tbody tr th:only-of-type {\n",
              "        vertical-align: middle;\n",
              "    }\n",
              "\n",
              "    .dataframe tbody tr th {\n",
              "        vertical-align: top;\n",
              "    }\n",
              "\n",
              "    .dataframe thead th {\n",
              "        text-align: right;\n",
              "    }\n",
              "</style>\n",
              "<table border=\"1\" class=\"dataframe\">\n",
              "  <thead>\n",
              "    <tr style=\"text-align: right;\">\n",
              "      <th></th>\n",
              "      <th>text</th>\n",
              "    </tr>\n",
              "  </thead>\n",
              "  <tbody>\n",
              "    <tr>\n",
              "      <th>0</th>\n",
              "      <td>oh moma like shannon brown u c showcas tongu t...</td>\n",
              "    </tr>\n",
              "    <tr>\n",
              "      <th>1</th>\n",
              "      <td>im watch googl wave preview caus idk hell ahh</td>\n",
              "    </tr>\n",
              "    <tr>\n",
              "      <th>2</th>\n",
              "      <td>hmmm possibl tempt ya know never ever ever pla...</td>\n",
              "    </tr>\n",
              "    <tr>\n",
              "      <th>3</th>\n",
              "      <td>shop</td>\n",
              "    </tr>\n",
              "    <tr>\n",
              "      <th>4</th>\n",
              "      <td>nearli gone</td>\n",
              "    </tr>\n",
              "  </tbody>\n",
              "</table>\n",
              "</div>"
            ],
            "text/plain": [
              "                                                text\n",
              "0  oh moma like shannon brown u c showcas tongu t...\n",
              "1      im watch googl wave preview caus idk hell ahh\n",
              "2  hmmm possibl tempt ya know never ever ever pla...\n",
              "3                                               shop\n",
              "4                                        nearli gone"
            ]
          },
          "metadata": {
            "tags": []
          },
          "execution_count": 407
        }
      ]
    },
    {
      "cell_type": "code",
      "metadata": {
        "id": "7r-cQAZJ3AZ5",
        "colab_type": "code",
        "outputId": "80e4820b-5a1a-4847-c991-9a22fae3e2fb",
        "colab": {
          "base_uri": "https://localhost:8080/",
          "height": 34
        }
      },
      "source": [
        "datatwiter.shape"
      ],
      "execution_count": 408,
      "outputs": [
        {
          "output_type": "execute_result",
          "data": {
            "text/plain": [
              "(29661, 1)"
            ]
          },
          "metadata": {
            "tags": []
          },
          "execution_count": 408
        }
      ]
    },
    {
      "cell_type": "markdown",
      "metadata": {
        "id": "A6cEGzU3FJrY",
        "colab_type": "text"
      },
      "source": [
        "## WordCloud"
      ]
    },
    {
      "cell_type": "markdown",
      "metadata": {
        "id": "_T33jOWL4nWX",
        "colab_type": "text"
      },
      "source": [
        "**Wordcloud** adalah representasi visual dari data teks, biasanya digunakan untuk menggambarkan metadata keywords (tags) pada sebuah website/situs, untuk memvisualisasikan suatu bentuk teks secara bebas. Selain itu, **Wordcloud** cara yang bagus untuk memvisualisasikan sentimen, menguasai teks yang besar, dan mengubah artikel yang menjemukan menjadi karya seni.\n",
        "\n",
        "\n",
        "Pada tahap ini akan dibuat 'wordcloud' dari data teks tweet diatas setelah dilakukan text preprocessing."
      ]
    },
    {
      "cell_type": "markdown",
      "metadata": {
        "id": "DulvApyY6muK",
        "colab_type": "text"
      },
      "source": [
        "#### Wordcloud Text"
      ]
    },
    {
      "cell_type": "code",
      "metadata": {
        "id": "GJ228GRLFNxU",
        "colab_type": "code",
        "colab": {}
      },
      "source": [
        "wordc = \"\".join(datatwiter.text.values)"
      ],
      "execution_count": 0,
      "outputs": []
    },
    {
      "cell_type": "code",
      "metadata": {
        "id": "YfqWU3h1WInx",
        "colab_type": "code",
        "colab": {}
      },
      "source": [
        "#make a wordcloud \n",
        "def create_word_cloud(string):\n",
        "    cloud = WordCloud(background_color = \"white\", contour_width = 2, contour_color = \"green\", max_words = 200, stopwords = set(STOPWORDS)).generate(string)\n",
        "    plt.imshow(cloud, interpolation='bilinear')\n",
        "    plt.axis('off')\n",
        "    plt.show()"
      ],
      "execution_count": 0,
      "outputs": []
    },
    {
      "cell_type": "code",
      "metadata": {
        "id": "7jHgWV0QWRGx",
        "colab_type": "code",
        "outputId": "4153d7c6-2cf5-47a9-de95-7097000b415a",
        "colab": {
          "base_uri": "https://localhost:8080/",
          "height": 219
        }
      },
      "source": [
        "create_word_cloud(wordc)"
      ],
      "execution_count": 411,
      "outputs": [
        {
          "output_type": "display_data",
          "data": {
            "image/png": "[encoded data removed]",
            "text/plain": [
              "<Figure size 432x288 with 1 Axes>"
            ]
          },
          "metadata": {
            "tags": []
          }
        }
      ]
    },
    {
      "cell_type": "markdown",
      "metadata": {
        "id": "qavVWf316KfD",
        "colab_type": "text"
      },
      "source": [
        "#### Wordcloud each target"
      ]
    },
    {
      "cell_type": "code",
      "metadata": {
        "id": "97YDLIB7WbJ-",
        "colab_type": "code",
        "colab": {}
      },
      "source": [
        "#define positive and not negative\n",
        "positive = datatweet.loc[datatweet['target'] == \"positive\"]\n",
        "negative  = datatweet.loc[datatweet['target'] == \"negative\"]"
      ],
      "execution_count": 0,
      "outputs": []
    },
    {
      "cell_type": "code",
      "metadata": {
        "id": "AJrBXOPYXxFs",
        "colab_type": "code",
        "colab": {}
      },
      "source": [
        "#merge all the happy comments into one paragraph\n",
        "all_target_negative = \"\".join(negative.text.values)\n",
        "all_target_positive = \"\".join(positive.text.values)"
      ],
      "execution_count": 0,
      "outputs": []
    },
    {
      "cell_type": "code",
      "metadata": {
        "id": "0zbZlA0-Xa3l",
        "colab_type": "code",
        "colab": {}
      },
      "source": [
        "#make a wordcloud \n",
        "def create_word_cloud(string):\n",
        "    cloud = WordCloud(background_color = \"white\", contour_width = 2, contour_color = \"red\", max_words = 100, stopwords = set(STOPWORDS)).generate(string)\n",
        "    plt.imshow(cloud, interpolation='bilinear')\n",
        "    plt.axis('off')\n",
        "    plt.show()"
      ],
      "execution_count": 0,
      "outputs": []
    },
    {
      "cell_type": "markdown",
      "metadata": {
        "id": "qlINTMLY6YKa",
        "colab_type": "text"
      },
      "source": [
        "#### Wordcloud Positive"
      ]
    },
    {
      "cell_type": "code",
      "metadata": {
        "id": "WC9dWDB0XlF4",
        "colab_type": "code",
        "outputId": "8b71f00c-fc4d-461a-ef85-f3aaecebd4d3",
        "colab": {
          "base_uri": "https://localhost:8080/",
          "height": 219
        }
      },
      "source": [
        "#positive\n",
        "create_word_cloud(all_target_positive)"
      ],
      "execution_count": 415,
      "outputs": [
        {
          "output_type": "display_data",
          "data": {
            "image/png": "[encoded data removed]",
            "text/plain": [
              "<Figure size 432x288 with 1 Axes>"
            ]
          },
          "metadata": {
            "tags": []
          }
        }
      ]
    },
    {
      "cell_type": "markdown",
      "metadata": {
        "id": "e2bt6_7e6c72",
        "colab_type": "text"
      },
      "source": [
        "#### Wordcloud Negative"
      ]
    },
    {
      "cell_type": "code",
      "metadata": {
        "id": "T6q4HUbyYDLT",
        "colab_type": "code",
        "outputId": "febba66d-136c-43d4-8b9b-72fd5b3c13af",
        "colab": {
          "base_uri": "https://localhost:8080/",
          "height": 219
        }
      },
      "source": [
        "#negative\n",
        "create_word_cloud(all_target_negative)"
      ],
      "execution_count": 416,
      "outputs": [
        {
          "output_type": "display_data",
          "data": {
            "image/png": "[encoded data removed]",
            "text/plain": [
              "<Figure size 432x288 with 1 Axes>"
            ]
          },
          "metadata": {
            "tags": []
          }
        }
      ]
    },
    {
      "cell_type": "markdown",
      "metadata": {
        "id": "5N7DMfZn6_Bj",
        "colab_type": "text"
      },
      "source": [
        "## Feature Extraction"
      ]
    },
    {
      "cell_type": "markdown",
      "metadata": {
        "id": "d8Wm9STp9DiD",
        "colab_type": "text"
      },
      "source": [
        "Feature Extraction berfungsi untuk pembuatan model dimana nanti akan dibentuk menjadi count vectorizer dan TF-IDF Vectorizer."
      ]
    },
    {
      "cell_type": "markdown",
      "metadata": {
        "id": "t6_YmP9JaqCj",
        "colab_type": "text"
      },
      "source": [
        "**1. Count Vectorizer**"
      ]
    },
    {
      "cell_type": "code",
      "metadata": {
        "id": "5-W7bmtEELDW",
        "colab_type": "code",
        "colab": {}
      },
      "source": [
        "count_vectorizer = CountVectorizer(stop_words='english')"
      ],
      "execution_count": 0,
      "outputs": []
    },
    {
      "cell_type": "markdown",
      "metadata": {
        "id": "VtuSZsZwa80D",
        "colab_type": "text"
      },
      "source": [
        "**2. TF-IDF Vectorizer**"
      ]
    },
    {
      "cell_type": "code",
      "metadata": {
        "id": "mwaLslz1a1q9",
        "colab_type": "code",
        "colab": {}
      },
      "source": [
        "tfidf = TfidfVectorizer(stop_words='english')"
      ],
      "execution_count": 0,
      "outputs": []
    },
    {
      "cell_type": "markdown",
      "metadata": {
        "id": "8xT9bsn8bFCx",
        "colab_type": "text"
      },
      "source": [
        "## Modeling"
      ]
    },
    {
      "cell_type": "markdown",
      "metadata": {
        "id": "ZGit5FyfnsYZ",
        "colab_type": "text"
      },
      "source": [
        "Pada tahap ini akan dilakukan modeling, menggunakan algorithma Logistic Regression dan Naive-Bayes Classifier. Sebelumnya, data akan ditransformasi ke count vectorizer dan TF-IDF Vectorizer. Selanjutnya, nanti akan dilakukan pemilihan model terbaik menggunakan ukuran kebaikan model Recall dan Precision."
      ]
    },
    {
      "cell_type": "code",
      "metadata": {
        "id": "Pg0Om51KbCRe",
        "colab_type": "code",
        "colab": {}
      },
      "source": [
        "#Inizialize data\n",
        "X = datatweet['text']\n",
        "y = datatweet['target']"
      ],
      "execution_count": 0,
      "outputs": []
    },
    {
      "cell_type": "code",
      "metadata": {
        "id": "cVeNE7vNcIAm",
        "colab_type": "code",
        "colab": {}
      },
      "source": [
        "#countvectorizer\n",
        "X_vectorizer = count_vectorizer.fit_transform(X)\n",
        "\n",
        "#tfidf vectorizer\n",
        "X_tfidf = tfidf.fit_transform(X)"
      ],
      "execution_count": 0,
      "outputs": []
    },
    {
      "cell_type": "code",
      "metadata": {
        "id": "NYHCXH0GcLIo",
        "colab_type": "code",
        "colab": {}
      },
      "source": [
        "#train test split using countvectorizer \n",
        "train_X_vectorizer, test_X_vectorizer, train_y, test_y = train_test_split(X_vectorizer, y, test_size=0.2, random_state=0)\n",
        "\n",
        "#train test split using tfidfvectorizer \n",
        "train_X_tfidf, test_X_tfidf, train_y, test_y = train_test_split(X_tfidf, y, test_size=0.2, random_state=0)"
      ],
      "execution_count": 0,
      "outputs": []
    },
    {
      "cell_type": "markdown",
      "metadata": {
        "id": "M8zmLz7s7llO",
        "colab_type": "text"
      },
      "source": [
        "### Logistic Regression"
      ]
    },
    {
      "cell_type": "markdown",
      "metadata": {
        "id": "v6uUoIN47sY3",
        "colab_type": "text"
      },
      "source": [
        "#### Countvectorizer"
      ]
    },
    {
      "cell_type": "code",
      "metadata": {
        "id": "M6tniioCdIAv",
        "colab_type": "code",
        "outputId": "801a5d99-b1ce-4bba-c968-151e74a6d312",
        "colab": {
          "base_uri": "https://localhost:8080/",
          "height": 71
        }
      },
      "source": [
        "# Countvectorizer \n",
        "Lr_vect = LogisticRegression()\n",
        "Lr_vect.fit(train_X_vectorizer,train_y)\n",
        "Lr_pred_vect_train = Lr_vect.predict(train_X_vectorizer)\n",
        "Lr_pred_vect_test = Lr_vect.predict(test_X_vectorizer)"
      ],
      "execution_count": 422,
      "outputs": [
        {
          "output_type": "stream",
          "text": [
            "/usr/local/lib/python3.6/dist-packages/sklearn/linear_model/logistic.py:432: FutureWarning: Default solver will be changed to 'lbfgs' in 0.22. Specify a solver to silence this warning.\n",
            "  FutureWarning)\n"
          ],
          "name": "stderr"
        }
      ]
    },
    {
      "cell_type": "markdown",
      "metadata": {
        "id": "2W1X6iPj7xUp",
        "colab_type": "text"
      },
      "source": [
        "#### TDIFVectorizer"
      ]
    },
    {
      "cell_type": "code",
      "metadata": {
        "id": "6eigw9WqddIh",
        "colab_type": "code",
        "outputId": "b20e8c75-a79f-481e-f6ff-cbc8fe7a51db",
        "colab": {
          "base_uri": "https://localhost:8080/",
          "height": 71
        }
      },
      "source": [
        "# TFIDFVectorizer\n",
        "Lr_tfidf = LogisticRegression()\n",
        "Lr_tfidf.fit(train_X_tfidf,train_y)\n",
        "Lr_pred_tfidf_train = Lr_tfidf.predict(train_X_tfidf)\n",
        "Lr_pred_tfidf_test = Lr_tfidf.predict(test_X_tfidf)"
      ],
      "execution_count": 423,
      "outputs": [
        {
          "output_type": "stream",
          "text": [
            "/usr/local/lib/python3.6/dist-packages/sklearn/linear_model/logistic.py:432: FutureWarning: Default solver will be changed to 'lbfgs' in 0.22. Specify a solver to silence this warning.\n",
            "  FutureWarning)\n"
          ],
          "name": "stderr"
        }
      ]
    },
    {
      "cell_type": "markdown",
      "metadata": {
        "id": "TVLwPoWG72z2",
        "colab_type": "text"
      },
      "source": [
        "#### Measurement of Model"
      ]
    },
    {
      "cell_type": "code",
      "metadata": {
        "id": "FYNAjUeQdk9y",
        "colab_type": "code",
        "outputId": "01e63f81-d848-447d-eab1-bb2003872f4f",
        "colab": {
          "base_uri": "https://localhost:8080/",
          "height": 102
        }
      },
      "source": [
        "# using count vectorizer\n",
        "print(\"______________ Countvectorizer ______________\")\n",
        "\n",
        "Lr_recall_vec_train = recall_score(train_y, Lr_pred_vect_train, average=\"micro\")\n",
        "Lr_recall_vec_test = recall_score(test_y, Lr_pred_vect_test,average=\"micro\") \n",
        "\n",
        "Lr_precision_vec_train = precision_score(train_y, Lr_pred_vect_train,average=\"micro\")\n",
        "Lr_precision_vec_test = precision_score(test_y, Lr_pred_vect_test,average=\"micro\")\n",
        "\n",
        "Lr_f1_score_vec_train = f1_score(train_y, Lr_pred_vect_train,average=\"micro\")\n",
        "Lr_f1_score_vec_test = f1_score(test_y,Lr_pred_vect_test,average=\"micro\")\n",
        "\n",
        "print('Information :')\n",
        "print('Recall train & test     : %.2f%%' % (Lr_recall_vec_train * 100), '&', '%.2f%%' % (Lr_recall_vec_test * 100))\n",
        "print('Precision train & test  : %.2f%%' % (Lr_precision_vec_train * 100), '&', '%.2f%%' % (Lr_precision_vec_test * 100))\n",
        "print('F1 Score train & test   : %.2f%%' % (Lr_f1_score_vec_train * 100), '&', '%.2f%%' % (Lr_f1_score_vec_test * 100))"
      ],
      "execution_count": 424,
      "outputs": [
        {
          "output_type": "stream",
          "text": [
            "______________ Countvectorizer ______________\n",
            "Information :\n",
            "Recall train & test     : 88.38% & 74.50%\n",
            "Precision train & test  : 88.38% & 74.50%\n",
            "F1 Score train & test   : 88.38% & 74.50%\n"
          ],
          "name": "stdout"
        }
      ]
    },
    {
      "cell_type": "code",
      "metadata": {
        "id": "JzV87lh_d3yb",
        "colab_type": "code",
        "outputId": "21cf32db-f465-46c3-b058-20b97fa98fc9",
        "colab": {
          "base_uri": "https://localhost:8080/",
          "height": 102
        }
      },
      "source": [
        "# using count TDIF vectorizer\n",
        "print(\"______________ TF-IDF ______________\")\n",
        "\n",
        "\n",
        "Lr_recall_tfidf_train = recall_score(train_y, Lr_pred_tfidf_train, average=\"micro\")\n",
        "Lr_recall_tfidf_test = recall_score(test_y, Lr_pred_tfidf_test,average=\"micro\") \n",
        "\n",
        "Lr_precision_tfidf_train = precision_score(train_y, Lr_pred_tfidf_train,average=\"micro\")\n",
        "Lr_precision_tfidf_test = precision_score(test_y, Lr_pred_tfidf_test,average=\"micro\")\n",
        "\n",
        "Lr_f1_score_tfidf_train = f1_score(train_y, Lr_pred_tfidf_train,average=\"micro\")\n",
        "Lr_f1_score_tfidf_test = f1_score(test_y,Lr_pred_tfidf_test,average=\"micro\")\n",
        "\n",
        "print('Information :')\n",
        "print('Recall train & test     : %.2f%%' % (Lr_recall_tfidf_train * 100), '&', '%.2f%%' % (Lr_recall_tfidf_test * 100))\n",
        "print('Precision train & test  : %.2f%%' % (Lr_precision_tfidf_train * 100), '&', '%.2f%%' % (Lr_precision_tfidf_test * 100))\n",
        "print('F1 Score train & test   : %.2f%%' % (Lr_f1_score_tfidf_train * 100), '&', '%.2f%%' % (Lr_f1_score_vec_test * 100))"
      ],
      "execution_count": 425,
      "outputs": [
        {
          "output_type": "stream",
          "text": [
            "______________ TF-IDF ______________\n",
            "Information :\n",
            "Recall train & test     : 84.27% & 74.97%\n",
            "Precision train & test  : 84.27% & 74.97%\n",
            "F1 Score train & test   : 84.27% & 74.50%\n"
          ],
          "name": "stdout"
        }
      ]
    },
    {
      "cell_type": "markdown",
      "metadata": {
        "id": "SeXfwbpB8AyS",
        "colab_type": "text"
      },
      "source": [
        "### Naive Bayes Classifier"
      ]
    },
    {
      "cell_type": "markdown",
      "metadata": {
        "id": "MnwGD51r8GKd",
        "colab_type": "text"
      },
      "source": [
        "#### Countvectorizer"
      ]
    },
    {
      "cell_type": "code",
      "metadata": {
        "id": "v4qsAz_Qd_Xo",
        "colab_type": "code",
        "colab": {}
      },
      "source": [
        "# Countvectorizer\n",
        "NB_vect = MultinomialNB()\n",
        "NB_vect.fit(train_X_vectorizer,train_y)\n",
        "NB_pred_vect_train = NB_vect.predict(train_X_vectorizer)\n",
        "NB_pred_vect_test = NB_vect.predict(test_X_vectorizer)"
      ],
      "execution_count": 0,
      "outputs": []
    },
    {
      "cell_type": "markdown",
      "metadata": {
        "id": "go15uGBb8Keq",
        "colab_type": "text"
      },
      "source": [
        "#### TFIDFVectorizer"
      ]
    },
    {
      "cell_type": "code",
      "metadata": {
        "id": "kfxGbcSzeI86",
        "colab_type": "code",
        "colab": {}
      },
      "source": [
        "# TFIDFVectorizer\n",
        "#from sklearn.naive_bayes import GaussianNB\n",
        "NB_tfidf = MultinomialNB()\n",
        "NB_tfidf.fit(train_X_tfidf,train_y)\n",
        "NB_pred_tfidf_train = NB_tfidf.predict(train_X_tfidf)\n",
        "NB_pred_tfidf_test = NB_tfidf.predict(test_X_tfidf)"
      ],
      "execution_count": 0,
      "outputs": []
    },
    {
      "cell_type": "markdown",
      "metadata": {
        "id": "U_zX1Lea8PyA",
        "colab_type": "text"
      },
      "source": [
        "#### Measurement of Model"
      ]
    },
    {
      "cell_type": "code",
      "metadata": {
        "id": "6nl3mtGieOtH",
        "colab_type": "code",
        "outputId": "c91f2589-322a-43c3-f79d-b77d35474b11",
        "colab": {
          "base_uri": "https://localhost:8080/",
          "height": 102
        }
      },
      "source": [
        "# find model evaluation for naive bayes\n",
        "# using count vectorizer\n",
        "print(\"______________ Countvectorizer ______________\")\n",
        "\n",
        "\n",
        "NB_recall_vec_train = recall_score(train_y, NB_pred_vect_train, average=\"micro\")\n",
        "NB_recall_vec_test = recall_score(test_y, NB_pred_vect_test,average=\"micro\") \n",
        "\n",
        "NB_precision_vec_train = precision_score(train_y, NB_pred_vect_train,average=\"micro\")\n",
        "NB_precision_vec_test = precision_score(test_y, NB_pred_vect_test,average=\"micro\")\n",
        "\n",
        "NB_f1_score_vec_train = f1_score(train_y, NB_pred_vect_train,average=\"micro\")\n",
        "NB_f1_score_vec_test = f1_score(test_y,NB_pred_vect_test,average=\"micro\")\n",
        "\n",
        "print('Information :')\n",
        "print('Recall train & test     : %.2f%%' % (NB_recall_vec_train * 100), '&', '%.2f%%' % (NB_recall_vec_test * 100))\n",
        "print('Precision train & test  : %.2f%%' % (NB_precision_vec_train * 100), '&', '%.2f%%' % (NB_precision_vec_test * 100))\n",
        "print('F1 Score train & test   : %.2f%%' % (NB_f1_score_vec_train * 100), '&', '%.2f%%' % (NB_f1_score_vec_test * 100))"
      ],
      "execution_count": 428,
      "outputs": [
        {
          "output_type": "stream",
          "text": [
            "______________ Countvectorizer ______________\n",
            "Information :\n",
            "Recall train & test     : 86.48% & 74.72%\n",
            "Precision train & test  : 86.48% & 74.72%\n",
            "F1 Score train & test   : 86.48% & 74.72%\n"
          ],
          "name": "stdout"
        }
      ]
    },
    {
      "cell_type": "code",
      "metadata": {
        "id": "8GibG_mVeU6N",
        "colab_type": "code",
        "outputId": "8707c0c0-2275-4aa6-cfb5-4f430eba8f95",
        "colab": {
          "base_uri": "https://localhost:8080/",
          "height": 102
        }
      },
      "source": [
        "# using count vectorizer\n",
        "print(\"______________ TF-IDF ______________\") #menggunakan tf-idf lebih baik\n",
        "\n",
        "\n",
        "NB_recall_tfidf_train = recall_score(train_y, NB_pred_tfidf_train, average=\"micro\")\n",
        "NB_recall_tfidf_test = recall_score(test_y, NB_pred_tfidf_test,average=\"micro\") \n",
        "\n",
        "NB_precision_tfidf_train = precision_score(train_y, NB_pred_tfidf_train,average=\"micro\")\n",
        "NB_precision_tfidf_test = precision_score(test_y, NB_pred_tfidf_test,average=\"micro\")\n",
        "\n",
        "NB_f1_score_tfidf_train = f1_score(train_y, NB_pred_tfidf_train,average=\"micro\")\n",
        "NB_f1_score_tfidf_test = f1_score(test_y,NB_pred_tfidf_test,average=\"micro\")\n",
        "\n",
        "print('Information :')\n",
        "print('Recall train & test     : %.2f%%' % (NB_recall_tfidf_train * 100), '&', '%.2f%%' % (NB_recall_tfidf_test * 100))\n",
        "print('Precision train & test  : %.2f%%' % (NB_precision_tfidf_train * 100), '&', '%.2f%%' % (NB_precision_tfidf_test * 100))\n",
        "print('F1 Score train & test   : %.2f%%' % (NB_f1_score_tfidf_train * 100), '&', '%.2f%%' % (NB_f1_score_vec_test * 100))"
      ],
      "execution_count": 429,
      "outputs": [
        {
          "output_type": "stream",
          "text": [
            "______________ TF-IDF ______________\n",
            "Information :\n",
            "Recall train & test     : 86.90% & 74.27%\n",
            "Precision train & test  : 86.90% & 74.27%\n",
            "F1 Score train & test   : 86.90% & 74.72%\n"
          ],
          "name": "stdout"
        }
      ]
    },
    {
      "cell_type": "markdown",
      "metadata": {
        "id": "5MccNFVbFaEE",
        "colab_type": "text"
      },
      "source": [
        "## Best Model"
      ]
    },
    {
      "cell_type": "markdown",
      "metadata": {
        "id": "dMAhiexqFfba",
        "colab_type": "text"
      },
      "source": [
        "Setelah membentuk kedua model diatas selanjutnya akan dipilih model terbaik dengan melihat nilai Recall, Precision untuk data test dan train. Model yang baik adalah model yang memiliki selisih measure/ukuran kebaikan model antara train dan test tidak terlalu jauh.\n",
        "\n",
        "Sehingga, berdasarkan dari model tersebut model yang paling baik adalah model TF-IDF Vectorizer Logistic Regression yang memiliki selisih nilai kebaikan model paling sedikit. Sebagai berikut:\n",
        "\n",
        "* Recall train & test     : 84.27% & 74.97%\n",
        "* Precision train & test  : 84.27% & 74.97%\n",
        "* F1 Score train & test   : 84.27% & 74.50%"
      ]
    },
    {
      "cell_type": "markdown",
      "metadata": {
        "id": "A9KwlOktJfcu",
        "colab_type": "text"
      },
      "source": [
        "## Conclusion"
      ]
    },
    {
      "cell_type": "markdown",
      "metadata": {
        "id": "VoxaxxWPiuW_",
        "colab_type": "text"
      },
      "source": [
        "- Sentiment Analysis adalah salah satu bidang dari Natural Languange Processing (NLP) yang membangun sistem untuk mengenali dan mengekstraksi opini dalam bentuk teks. Metode ini mengklasifikasikan 'text' atau opini menjadi sebuah hasil opini yang bersifat positive atau negative.\n",
        "- Pada case ini digunakan data tweet dari twitter.\n",
        "- Ukuran data untuk proses analysis dilakukan dengan random sampling.\n",
        "- Pada saat klasifikasi digunakan dua algorithma yaitu Logistic Regression dan Naive-Bayes Classifier.\n",
        "- Berdasarkan hasil analysis disimpulkan metode yang baik untuk mengklasifikasikan tweet tersebut adalah metode transformasi TF-IDF mengggunakan algorithma Regresi Logistik. Dimana algorithma ini memiliki nilai Re-call sebesar 84.27% yang artinya tingkat keberhasilan algorithma tersebut mengklasifikasikan dengan benar adalah sebesar 84.27% pada data training dan 74.97% untuk data testing. Sedangkan, untuk precision dihasilkan adalah 84.27% juga yang artinya tingkat ketepatan antara informasi yang diminta oleh pengguna dengan jawaban yang diberikan oleh algorithma sebesar 84.27%."
      ]
    }
  ]
}